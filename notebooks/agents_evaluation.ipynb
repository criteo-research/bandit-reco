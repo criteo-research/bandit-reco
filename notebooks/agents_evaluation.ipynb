{
  "nbformat": 4,
  "nbformat_minor": 0,
  "metadata": {
    "celltoolbar": "Aucun(e)",
    "kernelspec": {
      "display_name": "Python 3",
      "language": "python",
      "name": "python3"
    },
    "language_info": {
      "codemirror_mode": {
        "name": "ipython",
        "version": 3
      },
      "file_extension": ".py",
      "mimetype": "text/x-python",
      "name": "python",
      "nbconvert_exporter": "python",
      "pygments_lexer": "ipython3",
      "version": "3.6.9"
    },
    "colab": {
      "name": "agents_evaluation.ipynb",
      "provenance": []
    }
  },
  "cells": [
    {
      "cell_type": "markdown",
      "metadata": {
        "id": "WcWMYbWSXJTm"
      },
      "source": [
        "# RecoGym\n",
        "\n",
        "RecoGym is a Python [OpenAI Gym](https://gym.openai.com/) environment for testing recommendation algorithms.  It allows for the testing of both offline and reinforcement-learning based agents.  It provides a way to test algorithms in a toy environment quickly.\n"
      ]
    },
    {
      "cell_type": "code",
      "metadata": {
        "colab": {
          "base_uri": "https://localhost:8080/"
        },
        "id": "cRLjegm1XZMB",
        "outputId": "351a7ceb-8b52-4783-f7c7-cf18eb64324f"
      },
      "source": [
        "!pip install recogym -q"
      ],
      "execution_count": 1,
      "outputs": [
        {
          "output_type": "stream",
          "text": [
            "\u001b[?25l\r\u001b[K     |█████▋                          | 10kB 20.7MB/s eta 0:00:01\r\u001b[K     |███████████▎                    | 20kB 26.2MB/s eta 0:00:01\r\u001b[K     |████████████████▉               | 30kB 20.6MB/s eta 0:00:01\r\u001b[K     |██████████████████████▌         | 40kB 13.0MB/s eta 0:00:01\r\u001b[K     |████████████████████████████    | 51kB 7.6MB/s eta 0:00:01\r\u001b[K     |████████████████████████████████| 61kB 4.3MB/s \n",
            "\u001b[K     |████████████████████████████████| 61kB 5.3MB/s \n",
            "\u001b[K     |████████████████████████████████| 245kB 8.5MB/s \n",
            "\u001b[?25h"
          ],
          "name": "stdout"
        }
      ]
    },
    {
      "cell_type": "code",
      "metadata": {
        "id": "1t0kSgiVXJTq"
      },
      "source": [
        "from numpy.random.mtrand import RandomState\n",
        "from recogym import Configuration\n",
        "from recogym.agents import Agent\n",
        "from sklearn.linear_model import LogisticRegression\n",
        "from recogym import verify_agents\n",
        "from recogym.envs.session import OrganicSessions\n",
        "from recogym.agents import FeatureProvider, OrganicUserEventCounterAgent, organic_user_count_args\n",
        "from recogym.agents import RandomAgent, random_args\n",
        "from recogym.evaluate_agent import verify_agents, plot_verify_agents\n",
        "import math\n",
        "import numpy as np\n",
        "from recogym import Configuration, DefaultContext, Observation\n",
        "from recogym.envs.session import OrganicSessions\n",
        "\n",
        "import gym, recogym\n",
        "from copy import deepcopy\n",
        "from recogym import env_1_args\n",
        "import matplotlib.pyplot as plt\n",
        "import numpy as np\n",
        "import pandas as pd\n",
        "import torch\n",
        "import os\n",
        "import torch.nn.functional as F\n",
        "from torch.autograd import Variable\n",
        "\n",
        "%matplotlib inline\n",
        "\n",
        "num_users = 2000\n",
        "num_products = 10\n",
        "\n",
        "# You can overwrite environment arguments here:\n",
        "env_1_args['random_seed'] = 42\n",
        "env_1_args['num_products'] = num_products\n",
        "env_1_args['number_of_flips'] = num_products // 2\n",
        "env_1_args['sigma_mu_organic'] = 3\n",
        "env_1_args['sigma_omega'] = 0.1\n",
        "\n",
        "env = gym.make('reco-gym-v1')\n",
        "env.init_gym(env_1_args)"
      ],
      "execution_count": 2,
      "outputs": []
    },
    {
      "cell_type": "code",
      "metadata": {
        "colab": {
          "base_uri": "https://localhost:8080/"
        },
        "id": "lh5ldwRoXJTr",
        "outputId": "c65d3785-269a-4254-d890-66d37206cffa"
      },
      "source": [
        "# If you are not running it on google colab, you can skip this cell\n",
        "!git clone https://github.com/criteo-research/bandit-reco.git\n",
        "os.chdir('bandit-reco/notebooks')"
      ],
      "execution_count": 3,
      "outputs": [
        {
          "output_type": "stream",
          "text": [
            "Cloning into 'bandit-reco'...\n",
            "remote: Enumerating objects: 14, done.\u001b[K\n",
            "remote: Counting objects: 100% (14/14), done.\u001b[K\n",
            "remote: Compressing objects: 100% (12/12), done.\u001b[K\n",
            "remote: Total 254 (delta 3), reused 8 (delta 1), pack-reused 240\u001b[K\n",
            "Receiving objects: 100% (254/254), 33.62 MiB | 39.30 MiB/s, done.\n",
            "Resolving deltas: 100% (118/118), done.\n"
          ],
          "name": "stdout"
        }
      ]
    },
    {
      "cell_type": "code",
      "metadata": {
        "id": "IIBRV3gMXJTr"
      },
      "source": [
        "from util import FullBatchLBFGS"
      ],
      "execution_count": 4,
      "outputs": []
    },
    {
      "cell_type": "markdown",
      "metadata": {
        "id": "B-q5EGqBXJTs"
      },
      "source": [
        "## Data generation"
      ]
    },
    {
      "cell_type": "code",
      "metadata": {
        "colab": {
          "base_uri": "https://localhost:8080/"
        },
        "id": "IaVvmiMGXJTs",
        "outputId": "10e8914d-b518-4d5b-e2ab-eeafd5f87447"
      },
      "source": [
        "data = env.generate_logs(num_users)"
      ],
      "execution_count": 5,
      "outputs": [
        {
          "output_type": "stream",
          "text": [
            "Organic Users: 0it [00:00, ?it/s]\n",
            "Users: 100%|██████████| 2000/2000 [00:46<00:00, 43.12it/s]\n"
          ],
          "name": "stderr"
        }
      ]
    },
    {
      "cell_type": "code",
      "metadata": {
        "id": "-0CYUN7ZXJTu"
      },
      "source": [
        "# data = deepcopy(env).generate_logs(num_users)"
      ],
      "execution_count": 6,
      "outputs": []
    },
    {
      "cell_type": "code",
      "metadata": {
        "colab": {
          "base_uri": "https://localhost:8080/",
          "height": 204
        },
        "id": "BIy5ilOoXJTu",
        "outputId": "fc5f124b-03e7-4781-a760-ddc01be91574"
      },
      "source": [
        "data.head(5)"
      ],
      "execution_count": 7,
      "outputs": [
        {
          "output_type": "execute_result",
          "data": {
            "text/html": [
              "<div>\n",
              "<style scoped>\n",
              "    .dataframe tbody tr th:only-of-type {\n",
              "        vertical-align: middle;\n",
              "    }\n",
              "\n",
              "    .dataframe tbody tr th {\n",
              "        vertical-align: top;\n",
              "    }\n",
              "\n",
              "    .dataframe thead th {\n",
              "        text-align: right;\n",
              "    }\n",
              "</style>\n",
              "<table border=\"1\" class=\"dataframe\">\n",
              "  <thead>\n",
              "    <tr style=\"text-align: right;\">\n",
              "      <th></th>\n",
              "      <th>t</th>\n",
              "      <th>u</th>\n",
              "      <th>z</th>\n",
              "      <th>v</th>\n",
              "      <th>a</th>\n",
              "      <th>c</th>\n",
              "      <th>ps</th>\n",
              "      <th>ps-a</th>\n",
              "    </tr>\n",
              "  </thead>\n",
              "  <tbody>\n",
              "    <tr>\n",
              "      <th>0</th>\n",
              "      <td>0.0</td>\n",
              "      <td>0</td>\n",
              "      <td>organic</td>\n",
              "      <td>0</td>\n",
              "      <td>&lt;NA&gt;</td>\n",
              "      <td>NaN</td>\n",
              "      <td>NaN</td>\n",
              "      <td>None</td>\n",
              "    </tr>\n",
              "    <tr>\n",
              "      <th>1</th>\n",
              "      <td>1.0</td>\n",
              "      <td>0</td>\n",
              "      <td>bandit</td>\n",
              "      <td>&lt;NA&gt;</td>\n",
              "      <td>3</td>\n",
              "      <td>0.0</td>\n",
              "      <td>0.1</td>\n",
              "      <td>()</td>\n",
              "    </tr>\n",
              "    <tr>\n",
              "      <th>2</th>\n",
              "      <td>2.0</td>\n",
              "      <td>0</td>\n",
              "      <td>bandit</td>\n",
              "      <td>&lt;NA&gt;</td>\n",
              "      <td>4</td>\n",
              "      <td>0.0</td>\n",
              "      <td>0.1</td>\n",
              "      <td>()</td>\n",
              "    </tr>\n",
              "    <tr>\n",
              "      <th>3</th>\n",
              "      <td>3.0</td>\n",
              "      <td>0</td>\n",
              "      <td>bandit</td>\n",
              "      <td>&lt;NA&gt;</td>\n",
              "      <td>5</td>\n",
              "      <td>0.0</td>\n",
              "      <td>0.1</td>\n",
              "      <td>()</td>\n",
              "    </tr>\n",
              "    <tr>\n",
              "      <th>4</th>\n",
              "      <td>4.0</td>\n",
              "      <td>0</td>\n",
              "      <td>bandit</td>\n",
              "      <td>&lt;NA&gt;</td>\n",
              "      <td>0</td>\n",
              "      <td>0.0</td>\n",
              "      <td>0.1</td>\n",
              "      <td>()</td>\n",
              "    </tr>\n",
              "  </tbody>\n",
              "</table>\n",
              "</div>"
            ],
            "text/plain": [
              "     t  u        z     v     a    c   ps  ps-a\n",
              "0  0.0  0  organic     0  <NA>  NaN  NaN  None\n",
              "1  1.0  0   bandit  <NA>     3  0.0  0.1    ()\n",
              "2  2.0  0   bandit  <NA>     4  0.0  0.1    ()\n",
              "3  3.0  0   bandit  <NA>     5  0.0  0.1    ()\n",
              "4  4.0  0   bandit  <NA>     0  0.0  0.1    ()"
            ]
          },
          "metadata": {
            "tags": []
          },
          "execution_count": 7
        }
      ]
    },
    {
      "cell_type": "markdown",
      "metadata": {
        "id": "g9x8TBioXJTv"
      },
      "source": [
        "The logs generated by recogym contain the events with the following information:\n",
        "   * `t` is the timestep (always incremented)\n",
        "   * `u` is the user id linked to this event, in this data sample, we have only one user, hence it is always 0.\n",
        "   * `z` in the type of event (either organic: the user views a product or bandit: the user interact with a recommendation made by the agent).\n",
        "   * `v` is the index of the viewed product. Defined only if `z = organic`.\n",
        "   * `a` is a number between `0` and `num_products - 1` that references the index of the product that was recommended by the agent. Defined only if `z = bandit`.\n",
        "   * `c` is either `0` or `1` and denotes if the recommendation was clicked or not. This is typically what we want our agent to maximize. Defined only if `z = bandit`.\n",
        "   * `ps` is the propensity score or the probability that the agent assigned to this action. Here this propensity score always equals `0.1` since the agent was picking randomly the product to display. Defined only if `z = bandit`.\n",
        "   * `ps-a` can be ignored for today."
      ]
    },
    {
      "cell_type": "markdown",
      "metadata": {
        "id": "UnmcqgHrXJTv"
      },
      "source": [
        "## Agent evaluation"
      ]
    },
    {
      "cell_type": "markdown",
      "metadata": {
        "id": "YdmnnePoXJTv"
      },
      "source": [
        "We will use the popularity agent as the baseline. It basically predict the organic product that has been seen the most so far by the user. It is a simple but actually strong baseline."
      ]
    },
    {
      "cell_type": "code",
      "metadata": {
        "id": "EjPglVceXJTv"
      },
      "source": [
        "organic_counter_agent = OrganicUserEventCounterAgent(\n",
        "    Configuration({**organic_user_count_args, 'select_randomly': False, 'exploit_explore': False, 'epsilon': 0.0}))"
      ],
      "execution_count": 8,
      "outputs": []
    },
    {
      "cell_type": "code",
      "metadata": {
        "colab": {
          "base_uri": "https://localhost:8080/",
          "height": 350
        },
        "id": "xkgwyU0_XJTw",
        "outputId": "014e01b6-9f9c-4e2f-d715-d9a22aba2e6f"
      },
      "source": [
        "N_USERS_AB_TEST = 5000\n",
        "result_AB = verify_agents(env, N_USERS_AB_TEST, {'User-pop': organic_counter_agent})\n",
        "plot_verify_agents(result_AB)\n",
        "None"
      ],
      "execution_count": 9,
      "outputs": [
        {
          "output_type": "stream",
          "text": [
            "Organic Users: 0it [00:00, ?it/s]\n",
            "Users: 100%|██████████| 5000/5000 [01:36<00:00, 51.67it/s]\n"
          ],
          "name": "stderr"
        },
        {
          "output_type": "display_data",
          "data": {
            "image/png": "[encoded data removed]",
            "text/plain": [
              "<Figure size 432x288 with 1 Axes>"
            ]
          },
          "metadata": {
            "tags": [],
            "needs_background": "light"
          }
        }
      ]
    },
    {
      "cell_type": "markdown",
      "metadata": {
        "id": "23z2cCSYXJTw"
      },
      "source": [
        "# Logistic Regression Model\n",
        "\n",
        "## Turn Data into Features\n",
        "\n",
        "Now we are going to build a _Logistic Regression_ model.\n",
        "\n",
        "The model will predict _the probability of the click_ for the following data:\n",
        "* _`Views`_ is a total amount of views of a particular _`Product`_ shown during _Organic_ _`Events`_ **before** a _Bandit_ _`Event`_.\n",
        "* _`Action`_ is a proposed _`Product`_ at a _Bandit_ _`Event`_.\n",
        "\n",
        "For example, assume that we have _`10`_ products. In _Organic_ _`Events`_ , these products  were shown to a user as follows:\n",
        "\n",
        "| Product Id | 0 | 1 | 2 | 3 | 4 | 5 | 6 | 7 | 8  | 9 |\n",
        "|------------|---|---|---|---|---|---|---|---|----|---|\n",
        "| Views      | 0 | 0 | 0 | 7 | 0 | 0 | 0 | 8 | 11 | 0 |\n",
        "\n",
        "When we want to know the probability of the click for _`Product`_ = _`8`_ with available amounts of _`Views`_ , the input data for the model will be:\n",
        "\n",
        "$v = $_`0 0 0 7 0 0 0 8 11 0`_ and _**`8`**_\n",
        "\n",
        "The first `10` numbers are _`Views`_ of _`Products`_ (see above), the latest one is the _`Action`_.\n",
        "\n",
        "We will try to predict: $\\mathbb{P}(C|P=p, V)$ that is the probability of the click for a _`Product`_ $p$, provided that we have _`Views`_ $V$.\n",
        "\n",
        "We will encode _`Action`_ using a one-hot encoding.\n",
        "In our current example, the _`Action`_ is _`8`_. Thus, it is encoded as:\n",
        "\n",
        "_$a = $`0 0 0 0 0 0 0 0`_ _**`1`**_ _`0`_\n",
        "\n",
        "Here,\n",
        "* Vector of _`Actions`_ has a size that is equal to the _*number of `Products`*_ i.e., _`10`_.\n",
        "* _`Action`_ _`8`_ is marked as _`1`_ (_`Action`_ starts with _`0`_ ).\n",
        "\n",
        "Numerically, to fully describe the context $P=p, V$ that mixes the evaluated product and the products seen by the user, we do a Kronecker product of the two vectors $a$ and $v$. \n",
        "Namely, the vector used as features is the flattened version of the following $P \\times P$ matrix\n",
        "$$\n",
        "\\begin{pmatrix}\n",
        "\\cdots & 0      & \\cdots \\\\\n",
        "  & \\vdots & \\\\\n",
        "\\cdots & v & \\cdots \\\\\n",
        "  & \\vdots & \\\\\n",
        "\\cdots & 0      & \\cdots\n",
        "\\end{pmatrix}\n",
        "\\leftarrow \\text{ only the line corresponding the the action $p$ is non zero}\n",
        "$$"
      ]
    },
    {
      "cell_type": "code",
      "metadata": {
        "id": "CuBH1zPgXJTw"
      },
      "source": [
        "class ProductCountFeatureProvider(FeatureProvider):\n",
        "    \"\"\"This feature provider creates a user state based on viewed product count.\n",
        "    Namely, the feature vector of shape (n_products, ) contains for each product how many times the\n",
        "    user has viewed them organically.\n",
        "    \"\"\"\n",
        "\n",
        "    def __init__(self, config):\n",
        "        super(ProductCountFeatureProvider, self).__init__(config)\n",
        "        self.feature_data = np.zeros((self.config.num_products)).astype(int)\n",
        "\n",
        "    def observe(self, observation):\n",
        "        for session in observation.sessions():\n",
        "            self.feature_data[int(session['v'])] += 1\n",
        "\n",
        "    def features(self, observation):\n",
        "        return self.feature_data.copy()\n",
        "\n",
        "    def reset(self):\n",
        "        self.feature_data[:] = 0\n",
        "\n",
        "\n",
        "def build_rectangular_data(logs, feature_provider):\n",
        "    \"\"\"Create a rectangular feature set from the logged data.\n",
        "    For each taken action, we compute the state in which the user was when the action was taken\n",
        "    \"\"\"\n",
        "    feature_provider.reset()\n",
        "    user_states, actions, rewards, proba_actions = [], [], [], []\n",
        "    \n",
        "    current_user = None\n",
        "    for _, row in logs.iterrows():\n",
        "        if current_user != row['u']:\n",
        "            # Use has changed: start a new session and reset user state\n",
        "            current_user = row['u']\n",
        "            sessions = OrganicSessions()\n",
        "            feature_provider.reset()\n",
        "        \n",
        "        context = DefaultContext(row['u'], row['t'])\n",
        "        \n",
        "        if row['z'] == 'organic':\n",
        "            sessions.next(context, row['v'])\n",
        "            \n",
        "        else:\n",
        "            # For each bandit event, generate one observation for the user state, the taken action\n",
        "            # the obtained reward and the used probabilities\n",
        "            feature_provider.observe(Observation(context, sessions))\n",
        "            user_states += [feature_provider.features(None)] \n",
        "            actions += [row['a']]\n",
        "            rewards += [row['c']]\n",
        "            proba_actions += [row['ps']] \n",
        "            \n",
        "            # Start a new organic session\n",
        "            sessions = OrganicSessions()\n",
        "    \n",
        "    return np.array(user_states), np.array(actions).astype(int), np.array(rewards), np.array(proba_actions)"
      ],
      "execution_count": 10,
      "outputs": []
    },
    {
      "cell_type": "code",
      "metadata": {
        "id": "R2lU_niAXJT0"
      },
      "source": [
        "# You can now see data that will be provided to our agents based on logistic regressions.\n",
        "config = Configuration(env_1_args)\n",
        "count_feature_provider = ProductCountFeatureProvider(config=config)\n",
        "\n",
        "rectangular_logs = build_rectangular_data(data, count_feature_provider)\n",
        "user_states, actions, rewards, proba_actions = rectangular_logs"
      ],
      "execution_count": 11,
      "outputs": []
    },
    {
      "cell_type": "code",
      "metadata": {
        "colab": {
          "base_uri": "https://localhost:8080/"
        },
        "id": "weoY-EjWXJT4",
        "outputId": "18ce46d6-3e55-4726-bee8-297307f0a408"
      },
      "source": [
        "preview_start, preview_size = 540, 5\n",
        "\n",
        "print('User product views count at action time:')\n",
        "print(user_states[preview_start:preview_start + preview_size])\n",
        "print('Taken actions: ', actions[preview_start:preview_start + preview_size])\n",
        "print('Obtained rewards: ', rewards[preview_start:preview_start + preview_size])\n",
        "print('Probablities of the taken actions: ', proba_actions[preview_start:preview_start + preview_size])"
      ],
      "execution_count": 12,
      "outputs": [
        {
          "output_type": "stream",
          "text": [
            "User product views count at action time:\n",
            "[[ 0  0  0  3 12  2  0  3  1  0]\n",
            " [ 0  0  0  3 12  2  0  3  1  0]\n",
            " [ 0  0  0  0  3  0  0  0  0  0]\n",
            " [ 0  0  0  0  3  0  0  0  0  0]\n",
            " [ 0  0  0  0  3  0  0  0  0  0]]\n",
            "Taken actions:  [0 1 5 3 9]\n",
            "Obtained rewards:  [0. 0. 0. 0. 0.]\n",
            "Probablities of the taken actions:  [0.1 0.1 0.1 0.1 0.1]\n"
          ],
          "name": "stdout"
        }
      ]
    },
    {
      "cell_type": "markdown",
      "metadata": {
        "id": "cjz6ZWgwXJT4"
      },
      "source": [
        "Look at the data and see how it maps into the features - which is the combination of the history and the actions and the label, which is clicks.  Note that only the bandit events correspond to records in the training data.\n"
      ]
    },
    {
      "cell_type": "markdown",
      "metadata": {
        "id": "7hC7KC9zXJT4"
      },
      "source": [
        "## Create logistic regression agent"
      ]
    },
    {
      "cell_type": "code",
      "metadata": {
        "id": "7WDqisNVXJT5"
      },
      "source": [
        "class LikelihoodAgent(Agent):\n",
        "    def __init__(self, feature_provider, seed=43):\n",
        "        self.feature_provider = feature_provider\n",
        "        self.random_state = RandomState(seed)\n",
        "        self.model = None\n",
        "        \n",
        "    @property\n",
        "    def num_products(self):\n",
        "        return self.feature_provider.config.num_products\n",
        "    \n",
        "    def _create_features(self, user_state, action):\n",
        "        \"\"\"Create the features that are used to estimate the expected reward from the user state\"\"\"\n",
        "        features = np.zeros(len(user_state) * self.num_products)\n",
        "        features[action * len(user_state): (action + 1) * len(user_state)] = user_state\n",
        "        \n",
        "        return features\n",
        "    \n",
        "    def train(self, rectangular_logs):\n",
        "        user_states, actions, rewards, proba_actions = rectangular_logs\n",
        "        \n",
        "        features = np.vstack([\n",
        "            self._create_features(user_state, action) \n",
        "            for user_state, action in zip(user_states, actions)\n",
        "        ])\n",
        "        self.model = LogisticRegression(solver='lbfgs', max_iter=5000)\n",
        "        self.model.fit(features, rewards)\n",
        "    \n",
        "    def _score_products(self, user_state):\n",
        "        all_action_features = np.array([\n",
        "            self._create_features(user_state, action) \n",
        "            for action in range(self.num_products)\n",
        "        ])\n",
        "        return self.model.predict_proba(all_action_features)[:, 1]\n",
        "        \n",
        "    def act(self, observation, reward, done):\n",
        "        \"\"\"Act method returns an action based on current observation and past history\"\"\"\n",
        "        self.feature_provider.observe(observation)        \n",
        "        user_state = self.feature_provider.features(observation)\n",
        "        prob = self._score_products(user_state)\n",
        "        \n",
        "        action = np.argmax(prob)\n",
        "        ps = 1.0\n",
        "        all_ps = np.zeros(self.num_products)\n",
        "        all_ps[action] = 1.0        \n",
        "        \n",
        "        return {\n",
        "            **super().act(observation, reward, done),\n",
        "            **{\n",
        "                'a': action,\n",
        "                'ps': ps,\n",
        "                'ps-a': all_ps,\n",
        "            }\n",
        "        }\n",
        "\n",
        "    def reset(self):\n",
        "        self.feature_provider.reset()  "
      ],
      "execution_count": 13,
      "outputs": []
    },
    {
      "cell_type": "code",
      "metadata": {
        "colab": {
          "base_uri": "https://localhost:8080/"
        },
        "id": "IHZ_mP6HXJT5",
        "outputId": "0b3e910a-c4d8-4674-d272-db2c80c0cf0b"
      },
      "source": [
        "# Have a look at the feature vector used by the Likelihood agent.\n",
        "picked_sample = 540\n",
        "likelihood_logreg = LikelihoodAgent(count_feature_provider)\n",
        "\n",
        "print('User state: ', user_states[picked_sample])\n",
        "print('Action: ', actions[picked_sample])\n",
        "print('Created cross features:')\n",
        "print(likelihood_logreg._create_features(user_states[picked_sample], actions[picked_sample]))"
      ],
      "execution_count": 14,
      "outputs": [
        {
          "output_type": "stream",
          "text": [
            "User state:  [ 0  0  0  3 12  2  0  3  1  0]\n",
            "Action:  0\n",
            "Created cross features:\n",
            "[ 0.  0.  0.  3. 12.  2.  0.  3.  1.  0.  0.  0.  0.  0.  0.  0.  0.  0.\n",
            "  0.  0.  0.  0.  0.  0.  0.  0.  0.  0.  0.  0.  0.  0.  0.  0.  0.  0.\n",
            "  0.  0.  0.  0.  0.  0.  0.  0.  0.  0.  0.  0.  0.  0.  0.  0.  0.  0.\n",
            "  0.  0.  0.  0.  0.  0.  0.  0.  0.  0.  0.  0.  0.  0.  0.  0.  0.  0.\n",
            "  0.  0.  0.  0.  0.  0.  0.  0.  0.  0.  0.  0.  0.  0.  0.  0.  0.  0.\n",
            "  0.  0.  0.  0.  0.  0.  0.  0.  0.  0.]\n"
          ],
          "name": "stdout"
        }
      ]
    },
    {
      "cell_type": "code",
      "metadata": {
        "colab": {
          "base_uri": "https://localhost:8080/"
        },
        "id": "Gz3U0LYhXJT5",
        "outputId": "86eac3ba-5d30-4fdf-d08f-38e7f0a5b54b"
      },
      "source": [
        "%%time\n",
        "\n",
        "likelihood_logreg = LikelihoodAgent(count_feature_provider)\n",
        "likelihood_logreg.train(rectangular_logs)"
      ],
      "execution_count": 15,
      "outputs": [
        {
          "output_type": "stream",
          "text": [
            "CPU times: user 16 s, sys: 3.7 s, total: 19.7 s\n",
            "Wall time: 10.5 s\n"
          ],
          "name": "stdout"
        }
      ]
    },
    {
      "cell_type": "code",
      "metadata": {
        "colab": {
          "base_uri": "https://localhost:8080/",
          "height": 395
        },
        "id": "1-0EgKY5XJT6",
        "outputId": "1c56eb58-c4d3-4fd0-e723-cad92ec9689d"
      },
      "source": [
        "result_AB = pd.concat([result_AB, verify_agents(env, N_USERS_AB_TEST, {'Likelihood LogReg': likelihood_logreg})])\n",
        "plot_verify_agents(result_AB)\n",
        "None"
      ],
      "execution_count": 16,
      "outputs": [
        {
          "output_type": "stream",
          "text": [
            "Organic Users: 0it [00:00, ?it/s]\n",
            "Users: 100%|██████████| 5000/5000 [03:07<00:00, 26.73it/s]\n"
          ],
          "name": "stderr"
        },
        {
          "output_type": "display_data",
          "data": {
            "image/png": "[encoded data removed]",
            "text/plain": [
              "<Figure size 432x288 with 1 Axes>"
            ]
          },
          "metadata": {
            "tags": [],
            "needs_background": "light"
          }
        }
      ]
    },
    {
      "cell_type": "markdown",
      "metadata": {
        "id": "JB-0tppHXJT6"
      },
      "source": [
        "So far the training was obtained with a random policy. Hence, this data was not suffering from any covariate shift and value based models such as logistic regression can safely interpolate from it.\n",
        "What happens if we sample the data differently, for example with a popularity agent plus some randomness for exploration (`epsilon`)?"
      ]
    },
    {
      "cell_type": "code",
      "metadata": {
        "colab": {
          "base_uri": "https://localhost:8080/"
        },
        "id": "8Jys0sOaXJT6",
        "outputId": "741ea9a1-d9cf-47ba-9d54-9bdd1b58b728"
      },
      "source": [
        "# Generate RecoGym logs for U users\n",
        "logger = OrganicUserEventCounterAgent(\n",
        "    Configuration({**organic_user_count_args, 'select_randomly': True, 'random_seed': 38, 'epsilon': 0.01})\n",
        ")\n",
        "data = env.generate_logs(num_users, agent = logger)\n",
        "rectangular_logs = build_rectangular_data(data, count_feature_provider)"
      ],
      "execution_count": 17,
      "outputs": [
        {
          "output_type": "stream",
          "text": [
            "Organic Users: 0it [00:00, ?it/s]\n",
            "Users: 100%|██████████| 2000/2000 [01:11<00:00, 28.09it/s]\n"
          ],
          "name": "stderr"
        }
      ]
    },
    {
      "cell_type": "code",
      "metadata": {
        "id": "aXzlGGT8XJT6"
      },
      "source": [
        "likelihood_logreg = LikelihoodAgent(count_feature_provider)\n",
        "likelihood_logreg.train(rectangular_logs)"
      ],
      "execution_count": 18,
      "outputs": []
    },
    {
      "cell_type": "code",
      "metadata": {
        "colab": {
          "base_uri": "https://localhost:8080/",
          "height": 429
        },
        "id": "8g9QeBk8XJT6",
        "outputId": "9a97b740-491f-4b26-aae6-4a620aa295d8"
      },
      "source": [
        "result_AB = verify_agents(env, N_USERS_AB_TEST, {'User-pop': organic_counter_agent})\n",
        "result_AB = pd.concat([result_AB, verify_agents(env, N_USERS_AB_TEST, {'Likelihood LogReg': likelihood_logreg})])\n",
        "plot_verify_agents(result_AB)\n",
        "None"
      ],
      "execution_count": 19,
      "outputs": [
        {
          "output_type": "stream",
          "text": [
            "Organic Users: 0it [00:00, ?it/s]\n",
            "Users: 100%|██████████| 5000/5000 [01:41<00:00, 49.39it/s]\n",
            "Organic Users: 0it [00:00, ?it/s]\n",
            "Users: 100%|██████████| 5000/5000 [03:04<00:00, 27.08it/s]\n"
          ],
          "name": "stderr"
        },
        {
          "output_type": "display_data",
          "data": {
            "image/png": "[encoded data removed]",
            "text/plain": [
              "<Figure size 432x288 with 1 Axes>"
            ]
          },
          "metadata": {
            "tags": [],
            "needs_background": "light"
          }
        }
      ]
    },
    {
      "cell_type": "markdown",
      "metadata": {
        "id": "Kvyl81g1XJT7"
      },
      "source": [
        "# Policy learning"
      ]
    },
    {
      "cell_type": "markdown",
      "metadata": {
        "id": "jJ-5ki-tXJT7"
      },
      "source": [
        "## Contextual bandit agent\n",
        "\n",
        "Classical value-based methods (such as logistic regression) aim to learn the probability that a given action will lead to a positive reward, that is:\n",
        "\n",
        "$$p(c = 1|\\mathbf{x},a)$$\n",
        "\n",
        "In what follows, we will implement a different approach: a policy learning method.\n",
        "Policy-learning methods do not explicitly model the probability of a positive reward, but aim to directly model the action that should be taken, given a context:\n",
        "\n",
        "$$p(a|\\mathbf{x})$$\n",
        "\n",
        "Classical contextual bandits achieve this by optimising the expectation of the reward under the new (learned) policy $\\pi_\\theta$, given a logged dataset under policy $\\pi_0$.\n",
        "For a given dataset $\\mathcal{D}$ consisting of $N$ tuples $(\\mathbf{x},a,p,c)$, the objective can be written as the following:\n",
        "\n",
        "$$\\theta^{*} = \\text{argmax}_{\\theta} \\sum_{i=1}^{N}c_i\\frac{\\pi_\\theta(a_i|\\mathbf{x}_i)}{\\pi_0(a_i|\\mathbf{x}_i)}$$\n",
        "\n",
        "This objective can be straightforwardly optimised using your favourite package that provides auto-differentiation functionality.\n",
        "In our example, we will use PyTorch."
      ]
    },
    {
      "cell_type": "code",
      "metadata": {
        "id": "UmCO45B4XJT7"
      },
      "source": [
        "class MultinomialLogisticRegressionModel(torch.nn.Module):\n",
        "    def __init__(self, input_dim, output_dim):\n",
        "        torch.nn.Module.__init__(self)\n",
        "        # Generate weights - initialise randomly\n",
        "        self.weight = torch.nn.Parameter(torch.Tensor(output_dim, input_dim))\n",
        "        # torch.nn.init.kaiming_uniform_(self.weight, a = np.sqrt(5))\n",
        "        torch.nn.init.zeros_(self.weight)\n",
        "\n",
        "    def forward(self, x):\n",
        "        inner_product = F.linear(x, self.weight)\n",
        "        return F.softmax(inner_product, dim = 1)\n",
        "\n",
        "class VanillaContextualBandit(Agent):\n",
        "    def __init__(self, config, P=num_products, max_epoch=30, max_weight=None):\n",
        "        Agent.__init__(self, config)\n",
        "        self.model = MultinomialLogisticRegressionModel(P, P)\n",
        "        self.loss_history = []\n",
        "        self.user_state = np.zeros(P)\n",
        "        self.P = P\n",
        "        self.max_epoch = max_epoch\n",
        "        self.max_weight = max_weight\n",
        "\n",
        "    def loss(self, X, a, proba_logged_actions, c):\n",
        "        # Compute action predictions for clicks\n",
        "        predicted_proba_for_all_actions = self.model(X)\n",
        "        \n",
        "        # Only keep probabilities for the actions that were taken\n",
        "        predicted_proba = torch.gather(predicted_proba_for_all_actions, 1, a.unsqueeze(1)).reshape(-1)\n",
        "        \n",
        "        # expectation of the rewards under the new policy\n",
        "        rewards = predicted_proba / proba_logged_actions\n",
        "        \n",
        "        if self.max_weight is not None:\n",
        "            rewards = torch.clamp(rewards, min=0, max=self.max_weight)\n",
        "\n",
        "        # Since pytorch is meant to perform convex optimization, we rather\n",
        "        # output a loss that we will want to minimize\n",
        "        loss = - rewards\n",
        "        return loss.mean()\n",
        "\n",
        "    def train(self, rectangular_logs):\n",
        "        \"\"\"Train the contextual bandit based on an offline log such that it \n",
        "        learns to minimize its loss function\n",
        "        \"\"\"\n",
        "        user_states, actions, rewards, proba_actions = rectangular_logs\n",
        "        X = user_states\n",
        "        a = actions\n",
        "        p = proba_actions\n",
        "        c = rewards\n",
        "        \n",
        "        # Put into PyTorch variables - drop unclicked samples\n",
        "        X = Variable(torch.Tensor(X[c != 0]))\n",
        "        a = Variable(torch.LongTensor(a[c != 0]))\n",
        "        w = torch.Tensor(p[c != 0])\n",
        "        \n",
        "        def closure():\n",
        "            # Reset gradients\n",
        "            optimiser.zero_grad()\n",
        "\n",
        "            return self.loss(X, a, w, c)\n",
        "        \n",
        "        # Set up optimiser\n",
        "        optimiser = FullBatchLBFGS(self.model.parameters())\n",
        "\n",
        "        # Initial loss\n",
        "        self.loss_history.append(closure())\n",
        "        max_epoch = self.max_epoch\n",
        "        for epoch in range(max_epoch):\n",
        "            # Optimisation step\n",
        "            obj, _, _, _, _, _, _, _ = optimiser.step({'closure': closure,\n",
        "                                                       'current_loss': self.loss_history[-1],\n",
        "                                                       'max_ls': 20})\n",
        "            self.loss_history.append(obj)\n",
        "        \n",
        "        return\n",
        "\n",
        "    def plot_loss_history(self):\n",
        "        ''' Plot the training loss over epochs '''\n",
        "        _,_ = plt.subplots()\n",
        "        plt.plot(range(len(self.loss_history)),self.loss_history)\n",
        "        plt.xlabel('epoch')\n",
        "        plt.ylabel('loss')\n",
        "        plt.show()\n",
        "        \n",
        "    def observe(self, observation):\n",
        "        ''' Observe new organic views and capture them in the user state '''\n",
        "        for session in observation.sessions():\n",
        "            self.user_state[int(session['v'])] += 1\n",
        "\n",
        "    def act(self, observation, reward, done):\n",
        "        ''' Pick an action, based on the current observation and the history '''\n",
        "        # Observe\n",
        "        self.observe(observation)\n",
        "\n",
        "        # Act\n",
        "        p_a = self.model(torch.Tensor([self.user_state])).detach().numpy().ravel()\n",
        "        action = np.argmax(p_a)\n",
        "        prob = np.zeros_like(p_a)\n",
        "        prob[action] = 1.0\n",
        "\n",
        "        return {\n",
        "            **super().act(observation, reward, done),\n",
        "            **{\n",
        "                'a': action,\n",
        "                'ps': 1.0,\n",
        "                'ps-a': prob,\n",
        "            },\n",
        "        }\n",
        "\n",
        "    def reset(self):\n",
        "        ''' Reset the user state '''\n",
        "        self.user_state = np.zeros(self.P)"
      ],
      "execution_count": 20,
      "outputs": []
    },
    {
      "cell_type": "code",
      "metadata": {
        "colab": {
          "base_uri": "https://localhost:8080/"
        },
        "id": "mklWT8_8XJT7",
        "outputId": "81fb5f7e-18aa-4c22-8eac-10ef24dd31a7"
      },
      "source": [
        "vanilla_cb = VanillaContextualBandit({}, max_epoch=100)\n",
        "vanilla_cb.train(rectangular_logs)"
      ],
      "execution_count": 21,
      "outputs": [
        {
          "output_type": "stream",
          "text": [
            "/content/bandit-reco/notebooks/util/LBFGS.py:247: UserWarning: This overload of add_ is deprecated:\n",
            "\tadd_(Number alpha, Tensor other)\n",
            "Consider using one of the following signatures instead:\n",
            "\tadd_(Tensor other, *, Number alpha) (Triggered internally at  /pytorch/torch/csrc/utils/python_arg_parser.cpp:882.)\n",
            "  p.data.add_(step_size, update[offset:offset + numel].view_as(p.data))\n"
          ],
          "name": "stderr"
        }
      ]
    },
    {
      "cell_type": "code",
      "metadata": {
        "colab": {
          "base_uri": "https://localhost:8080/",
          "height": 279
        },
        "id": "oMYogM6bXJT7",
        "outputId": "3091bf82-4b9b-4506-cfae-dabd7e1c11ed"
      },
      "source": [
        "vanilla_cb.plot_loss_history()"
      ],
      "execution_count": 22,
      "outputs": [
        {
          "output_type": "display_data",
          "data": {
            "image/png": "[encoded data removed]",
            "text/plain": [
              "<Figure size 432x288 with 1 Axes>"
            ]
          },
          "metadata": {
            "tags": [],
            "needs_background": "light"
          }
        }
      ]
    },
    {
      "cell_type": "code",
      "metadata": {
        "colab": {
          "base_uri": "https://localhost:8080/",
          "height": 395
        },
        "id": "MJFgVJHnXJT8",
        "outputId": "ca049b88-8313-411a-97ad-1778bc88fa4d"
      },
      "source": [
        "result_AB = pd.concat([result_AB, verify_agents(env, N_USERS_AB_TEST, {'Contextual Bandit': vanilla_cb})])\n",
        "plot_verify_agents(result_AB)\n",
        "None"
      ],
      "execution_count": 23,
      "outputs": [
        {
          "output_type": "stream",
          "text": [
            "Organic Users: 0it [00:00, ?it/s]\n",
            "Users: 100%|██████████| 5000/5000 [02:33<00:00, 32.58it/s]\n"
          ],
          "name": "stderr"
        },
        {
          "output_type": "display_data",
          "data": {
            "image/png": "[encoded data removed]",
            "text/plain": [
              "<Figure size 432x288 with 1 Axes>"
            ]
          },
          "metadata": {
            "tags": [],
            "needs_background": "light"
          }
        }
      ]
    },
    {
      "cell_type": "code",
      "metadata": {
        "colab": {
          "base_uri": "https://localhost:8080/",
          "height": 279
        },
        "id": "77IbgQagXJT8",
        "outputId": "0d2fd8db-f047-4d05-9d5d-cafa6721815f"
      },
      "source": [
        "vanilla_cb_clamped = VanillaContextualBandit({}, max_epoch=100, max_weight=100)\n",
        "vanilla_cb_clamped.train(rectangular_logs)\n",
        "vanilla_cb_clamped.plot_loss_history()"
      ],
      "execution_count": 24,
      "outputs": [
        {
          "output_type": "display_data",
          "data": {
            "image/png": "[encoded data removed]",
            "text/plain": [
              "<Figure size 432x288 with 1 Axes>"
            ]
          },
          "metadata": {
            "tags": [],
            "needs_background": "light"
          }
        }
      ]
    },
    {
      "cell_type": "code",
      "metadata": {
        "colab": {
          "base_uri": "https://localhost:8080/",
          "height": 443
        },
        "id": "1_c23g6xXJT9",
        "outputId": "9155de64-55d9-45b1-9c4e-bfdf7f92e63c"
      },
      "source": [
        "result_AB = pd.concat([result_AB, verify_agents(env, N_USERS_AB_TEST, {'Contextual Bandit Clamped': vanilla_cb_clamped})])\n",
        "plot_verify_agents(result_AB)\n",
        "None"
      ],
      "execution_count": 25,
      "outputs": [
        {
          "output_type": "stream",
          "text": [
            "Organic Users: 0it [00:00, ?it/s]\n",
            "Users: 100%|██████████| 5000/5000 [02:32<00:00, 32.89it/s]\n"
          ],
          "name": "stderr"
        },
        {
          "output_type": "display_data",
          "data": {
            "image/png": "[encoded data removed]",
            "text/plain": [
              "<Figure size 432x288 with 1 Axes>"
            ]
          },
          "metadata": {
            "tags": [],
            "needs_background": "light"
          }
        }
      ]
    },
    {
      "cell_type": "markdown",
      "metadata": {
        "id": "d0A33EPmXJT9"
      },
      "source": [
        "## POEM\n",
        "\n",
        "The classical IPS estimator has its disadvantages, however.\n",
        "In its current form, the variance of the estimate can grow to be of significant size.\n",
        "To mitigate this, Swaminathan and Joachims propose to include a sample variance penalisation term to the objective, effectively ensuring that the learned model does not stray too far from the logging policy.\n",
        "\n",
        "This is the Counterfactual Risk Minimisation (CRM) objective, and the learning method optimising it directly is called POEM:\n",
        "$$\\theta^{*} = \\text{argmax}_{\\theta} \\sum_{i=1}^{N}c_i\\frac{\\pi_\\theta(a_i|\\mathbf{x}_i)}{\\pi_0(a_i|\\mathbf{x}_i)} - \\lambda \\sqrt{\\frac{\\widehat{Var}_\\theta}{N}} $$\n",
        "\n",
        "\n",
        "We model $\\pi_\\theta$ as linear:\n",
        "\n",
        "$$\\pi_\\theta(a|\\mathbf{x}) = \\text{softmax}(\\mathbf{x}^{\\intercal}\\theta)_a$$\n",
        "\n",
        "\n",
        "Swaminathan, Adith, and Thorsten Joachims. \"Batch learning from logged bandit feedback through counterfactual risk minimization.\" Journal of Machine Learning Research 16.1 (2015): 1731-1755."
      ]
    },
    {
      "cell_type": "code",
      "metadata": {
        "id": "1qNOiwhfXJT9"
      },
      "source": [
        "class PoemContextualBandit(VanillaContextualBandit):\n",
        "    def __init__(self, config, P=num_products, max_epoch=30, variance_penalization_factor=0.):\n",
        "        VanillaContextualBandit.__init__(self, config, P=num_products, max_epoch=max_epoch)\n",
        "        self.variance_penalization_factor = variance_penalization_factor\n",
        "\n",
        "    def loss(self, X, a, proba_logged_actions, c):\n",
        "        # Compute action predictions for clicks\n",
        "        predicted_proba_for_all_actions = self.model(X)\n",
        "        \n",
        "        # Only keep probabilities for the actions that were taken\n",
        "        predicted_proba = torch.gather(predicted_proba_for_all_actions, 1, a.unsqueeze(1)).reshape(-1)\n",
        "\n",
        "        loss = - predicted_proba / proba_logged_actions\n",
        "\n",
        "        # Compute the variance of the IPS estimate\n",
        "        N = loss.shape[0]\n",
        "        var = torch.sqrt(torch.var(loss) / N)\n",
        "\n",
        "        return loss.mean() + self.variance_penalization_factor * var\n"
      ],
      "execution_count": 26,
      "outputs": []
    },
    {
      "cell_type": "code",
      "metadata": {
        "colab": {
          "base_uri": "https://localhost:8080/",
          "height": 279
        },
        "id": "8EQOIG5QXJT9",
        "outputId": "1abe2d1d-930c-47ee-e41a-0608b118a19d"
      },
      "source": [
        "poem = PoemContextualBandit({}, variance_penalization_factor=0.1, max_epoch=100)\n",
        "poem.train(rectangular_logs)\n",
        "poem.plot_loss_history()"
      ],
      "execution_count": 34,
      "outputs": [
        {
          "output_type": "display_data",
          "data": {
            "image/png": "[encoded data removed]",
            "text/plain": [
              "<Figure size 432x288 with 1 Axes>"
            ]
          },
          "metadata": {
            "tags": [],
            "needs_background": "light"
          }
        }
      ]
    },
    {
      "cell_type": "code",
      "metadata": {
        "colab": {
          "base_uri": "https://localhost:8080/",
          "height": 443
        },
        "id": "u4aJcy6GXJT9",
        "outputId": "39bbfaa0-8d50-43f8-bc59-b959df5e19ec"
      },
      "source": [
        "result_AB = pd.concat([result_AB, verify_agents(env, N_USERS_AB_TEST, {f'POEM': poem})])\n",
        "plot_verify_agents(result_AB)\n",
        "None"
      ],
      "execution_count": 35,
      "outputs": [
        {
          "output_type": "stream",
          "text": [
            "Organic Users: 0it [00:00, ?it/s]\n",
            "Users: 100%|██████████| 5000/5000 [02:36<00:00, 32.05it/s]\n"
          ],
          "name": "stderr"
        },
        {
          "output_type": "display_data",
          "data": {
            "image/png": "[encoded data removed]",
            "text/plain": [
              "<Figure size 432x288 with 1 Axes>"
            ]
          },
          "metadata": {
            "tags": [],
            "needs_background": "light"
          }
        }
      ]
    },
    {
      "cell_type": "code",
      "metadata": {
        "id": "Q2CqfwkFOL7z"
      },
      "source": [
        ""
      ],
      "execution_count": null,
      "outputs": []
    }
  ]
}